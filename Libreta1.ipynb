{
 "cells": [
  {
   "cell_type": "code",
   "execution_count": null,
   "metadata": {},
   "outputs": [],
   "source": [
    "# Esto es un titulo desde github"
   ]
  },
  {
   "cell_type": "code",
   "execution_count": 1,
   "metadata": {},
   "outputs": [
    {
     "name": "stdout",
     "output_type": "stream",
     "text": [
      "3\n",
      "7\n",
      "\n",
      "\n",
      "\n",
      "\n",
      "35\n",
      "4.0\n"
     ]
    }
   ],
   "source": [
    "# Esto es una resta\n",
    "print( 10 - 7 )\n",
    "\n",
    "# Esto es una suma\n",
    "print( 2 + 5 )\n",
    "\n",
    "# Salto de linea (\"linea en blanco\")\n",
    "# 4 líneas en blanco\n",
    "print()\n",
    "print()\n",
    "print()\n",
    "print()\n",
    "\n",
    "# Mult\n",
    "print( 5 * 7)\n",
    "\n",
    "# Div\n",
    "print( 20 / 5 )"
   ]
  }
 ],
 "metadata": {
  "kernelspec": {
   "display_name": "Python 3",
   "language": "python",
   "name": "python3"
  },
  "language_info": {
   "codemirror_mode": {
    "name": "ipython",
    "version": 3
   },
   "file_extension": ".py",
   "mimetype": "text/x-python",
   "name": "python",
   "nbconvert_exporter": "python",
   "pygments_lexer": "ipython3",
   "version": "3.10.4"
  },
  "orig_nbformat": 4
 },
 "nbformat": 4,
 "nbformat_minor": 2
}
